{
 "cells": [
  {
   "cell_type": "code",
   "execution_count": 1,
   "id": "c812180f",
   "metadata": {},
   "outputs": [],
   "source": [
    "import torch\n",
    "import torch\n",
    "from torchvision import datasets, models, transforms\n",
    "import torch.nn as nn\n",
    "from torch.nn import functional as F\n",
    "import torch.optim as optim\n",
    "import torchvision"
   ]
  },
  {
   "cell_type": "code",
   "execution_count": 2,
   "id": "14426208",
   "metadata": {},
   "outputs": [
    {
     "data": {
      "text/plain": [
       "device(type='cuda', index=0)"
      ]
     },
     "execution_count": 2,
     "metadata": {},
     "output_type": "execute_result"
    }
   ],
   "source": [
    "device = torch.device(\"cuda:0\" if torch.cuda.is_available() else \"cpu\")\n",
    "device"
   ]
  },
  {
   "cell_type": "code",
   "execution_count": 3,
   "id": "283f1a82",
   "metadata": {},
   "outputs": [],
   "source": [
    "model_path= 'models/pytorch/Pytorch_trial_weights.pt'"
   ]
  },
  {
   "cell_type": "code",
   "execution_count": 5,
   "id": "4600ccef",
   "metadata": {},
   "outputs": [],
   "source": [
    "model = torch.load(model_path,map_location='cuda')\n",
    "model = models.resnet50(pretrained=True).to(device)\n",
    "\n",
    "for param in model.parameters():\n",
    "    param.requires_grad = False\n",
    "\n",
    "model.fc = nn.Sequential(\n",
    "    nn.Linear(2048, 512),\n",
    "    nn.BatchNorm1d(512),  # Batch normalization layer\n",
    "    nn.ReLU(inplace=True),  # activation function\n",
    "    nn.Linear(512, 8),\n",
    "    nn.Softmax(dim=1)\n",
    ").to(device)\n",
    "\n",
    "# Sample input (adjust according to your model's input shape)\n",
    "dummy_input = torch.randn(1, 3, 224, 224).cuda()\n",
    "\n",
    "\n",
    "torch.onnx.export(model, dummy_input, \"resnet_gpu.onnx\", opset_version=11)\n"
   ]
  },
  {
   "cell_type": "code",
   "execution_count": 6,
   "id": "088b2429",
   "metadata": {},
   "outputs": [],
   "source": [
    "import onnx\n",
    "\n"
   ]
  },
  {
   "cell_type": "code",
   "execution_count": null,
   "id": "15e1190b",
   "metadata": {},
   "outputs": [],
   "source": [
    "# Load the ONNX model\n",
    "onnx_model_path = 'resnet50_model.onnx'\n",
    "onnx_model = onnx.load(onnx_model_path)\n",
    "\n",
    "# Create a TensorRT builder and network definition\n",
    "builder = trt.Builder(trt.Logger(trt.Logger.WARNING))\n",
    "network = builder.create_network()\n",
    "\n",
    "# Parse the ONNX model into the TensorRT network\n",
    "parser = trt.OnnxParser(network, trt.Logger(trt.Logger.WARNING))\n",
    "parser.parse(onnx_model)\n",
    "\n",
    "# Set the maximum workspace size\n",
    "workspace_size = 1 << 30  # 1GB\n",
    "builder.set_workspace(workspace_size)\n",
    "\n",
    "# Build the TensorRT engine\n",
    "builder.max_batch_size = 1\n",
    "engine = builder.build_cuda_engine(network)\n",
    "\n",
    "# Save the TensorRT engine\n",
    "trt_engine_path = 'resnet_engine.engine'\n",
    "with open(trt_engine_path, \"wb\") as f:\n",
    "    f.write(engine.serialize())"
   ]
  },
  {
   "cell_type": "code",
   "execution_count": 11,
   "id": "ec454aaf",
   "metadata": {},
   "outputs": [
    {
     "name": "stdout",
     "output_type": "stream",
     "text": [
      "None\n",
      "Error saving engine: 'NoneType' object has no attribute 'serialize'\n"
     ]
    }
   ],
   "source": [
    "import tensorrt as trt\n",
    "import ctypes\n",
    "\n",
    "# Load the serialized TensorRT model (.trt file)\n",
    "with open(\"resnetGPU_engine.trt\", \"rb\") as f:\n",
    "    trt_engine_data = f.read()\n",
    "\n",
    "# Load TensorRT runtime\n",
    "trt_logger = trt.Logger(trt.Logger.WARNING)\n",
    "trt_runtime = trt.Runtime(trt_logger)\n",
    "\n",
    "# Deserialize the TensorRT engine\n",
    "trt_engine = trt_runtime.deserialize_cuda_engine(trt_engine_data)\n",
    "print(trt_engine)\n",
    "\n",
    "# Save the engine to file (assuming you want to save a copy)\n",
    "try:\n",
    "    with open(\"resnet_engine.engine\", \"wb\") as f:\n",
    "        f.write(trt_engine.serialize())\n",
    "except Exception as e:\n",
    "    print(f\"Error saving engine: {e}\")\n",
    "    # Handle the error gracefully (e.g., exit program, log error)\n"
   ]
  },
  {
   "cell_type": "code",
   "execution_count": null,
   "id": "72c9962b",
   "metadata": {},
   "outputs": [],
   "source": [
    "import onnx\n",
    "# Load the ONNX model\n",
    "\n",
    "onnx_model_path = \"resnetGPU_engine.trt\"\n",
    "onnx_model = onnx.load(onnx_model_path)\n",
    "\n",
    "# Create a TensorRT builder and network definition\n",
    "builder = trt.Builder(trt.Logger(trt.Logger.WARNING))\n",
    "network = builder.create_network()\n",
    "\n",
    "# Parse the ONNX model into the TensorRT network\n",
    "parser = trt.OnnxParser(network, trt.Logger(trt.Logger.WARNING))\n",
    "parser.parse(onnx_model)\n",
    "\n",
    "# Set the maximum workspace size\n",
    "workspace_size = 1 << 30  # 1GB\n",
    "builder.set_workspace(workspace_size)\n",
    "\n",
    "# Build the TensorRT engine\n",
    "builder.max_batch_size = 1\n",
    "engine = builder.build_cuda_engine(network)\n",
    "\n",
    "# Save the TensorRT engine\n",
    "trt_engine_path = engineloc\n",
    "with open(trt_engine_path, \"wb\") as f:\n",
    "    f.write(engine.serialize())\n"
   ]
  }
 ],
 "metadata": {
  "kernelspec": {
   "display_name": "Python 3 (ipykernel)",
   "language": "python",
   "name": "python3"
  },
  "language_info": {
   "codemirror_mode": {
    "name": "ipython",
    "version": 3
   },
   "file_extension": ".py",
   "mimetype": "text/x-python",
   "name": "python",
   "nbconvert_exporter": "python",
   "pygments_lexer": "ipython3",
   "version": "3.11.5"
  }
 },
 "nbformat": 4,
 "nbformat_minor": 5
}
