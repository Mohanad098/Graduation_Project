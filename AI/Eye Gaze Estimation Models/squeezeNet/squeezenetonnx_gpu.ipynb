{
 "cells": [
  {
   "cell_type": "code",
   "execution_count": 1,
   "id": "ba3ba62d",
   "metadata": {},
   "outputs": [],
   "source": [
    "import torch\n",
    "import torch\n",
    "from torchvision import datasets, models, transforms\n",
    "import torch.nn as nn\n",
    "from torch.nn import functional as F\n",
    "import torch.optim as optim\n",
    "import torchvision"
   ]
  },
  {
   "cell_type": "code",
   "execution_count": 2,
   "id": "8302b782",
   "metadata": {},
   "outputs": [
    {
     "data": {
      "text/plain": [
       "device(type='cuda', index=0)"
      ]
     },
     "execution_count": 2,
     "metadata": {},
     "output_type": "execute_result"
    }
   ],
   "source": [
    "device = torch.device(\"cuda:0\" if torch.cuda.is_available() else \"cpu\")\n",
    "device"
   ]
  },
  {
   "cell_type": "code",
   "execution_count": 4,
   "id": "640298e3",
   "metadata": {},
   "outputs": [],
   "source": [
    "model_path= 'squeezeNet.pt'"
   ]
  },
  {
   "cell_type": "code",
   "execution_count": 5,
   "id": "ab0dc78a",
   "metadata": {},
   "outputs": [],
   "source": [
    "model =torchvision.models.squeezenet1_0(pretrained=True).to(device)\n",
    "\n",
    "for param in model.parameters():\n",
    "    param.requires_grad = False\n",
    "\n",
    "# Define the custom classifier\n",
    "classifier = nn.Sequential(\n",
    "    nn.Dropout(p=0.5, inplace=False),\n",
    "    nn.Conv2d(512, 8, kernel_size=(1, 1), stride=(1, 1)),\n",
    "    nn.ReLU(inplace=True),\n",
    "    nn.AdaptiveAvgPool2d(output_size=(1, 1)),\n",
    "    #nn.Softmax(dim=1)\n",
    ").to(device)\n",
    "\n",
    "# Replace the default classifier with the custom one\n",
    "model.classifier = classifier\n",
    "\n",
    "model.load_state_dict(torch.load(model_path))\n",
    "model.eval().to(device)\n",
    "\n",
    "# Sample input (adjust according to your model's input shape)\n",
    "dummy_input = torch.randn(1, 3, 224, 224).cuda()\n",
    "\n",
    "torch.onnx.export(model, dummy_input, \"squeezenet_gpu.onnx\", opset_version=11)\n"
   ]
  },
  {
   "cell_type": "markdown",
   "id": "1a259c74",
   "metadata": {},
   "source": [
    "## image resolution"
   ]
  },
  {
   "cell_type": "code",
   "execution_count": 6,
   "id": "8cab39f0",
   "metadata": {},
   "outputs": [
    {
     "name": "stdout",
     "output_type": "stream",
     "text": [
      "Resolution: 224x224 pixels\n"
     ]
    }
   ],
   "source": [
    "from PIL import Image\n",
    "\n",
    "# Open the image\n",
    "with Image.open(\"C:/Users/AS-GP/Desktop/Resnet50/lisat_gaze_data_v1/new/train/Eyes Closed/1_00632.png\") as image:\n",
    "    # Get width and height\n",
    "    width, height = image.size\n",
    "\n",
    "    # Print the resolution\n",
    "    print(f\"Resolution: {width}x{height} pixels\")\n",
    "\n",
    "    # Check for DPI information (not always available)\n",
    "    if 'dpi' in image.info:\n",
    "        dpi_x, dpi_y = image.info['dpi']\n",
    "        print(f\"DPI: {dpi_x}x{dpi_y} dots per inch\")"
   ]
  },
  {
   "cell_type": "code",
   "execution_count": 7,
   "id": "4de6e480",
   "metadata": {},
   "outputs": [
    {
     "name": "stdout",
     "output_type": "stream",
     "text": [
      "Resolution: 224x224 pixels\n"
     ]
    }
   ],
   "source": [
    "import cv2\n",
    "\n",
    "# Read the image\n",
    "image = cv2.imread(\"C:/Users/AS-GP/Desktop/Resnet50/lisat_gaze_data_v1/new/train/Eyes Closed/1_00632.png\")\n",
    "\n",
    "# Get image dimensions\n",
    "dimensions = image.shape\n",
    "\n",
    "# Height is at index 0, width at index 1\n",
    "height, width = dimensions[0], dimensions[1]\n",
    "\n",
    "# Print the resolution\n",
    "print(f\"Resolution: {width}x{height} pixels\")\n"
   ]
  },
  {
   "cell_type": "code",
   "execution_count": null,
   "id": "32e6afe4",
   "metadata": {},
   "outputs": [],
   "source": []
  }
 ],
 "metadata": {
  "kernelspec": {
   "display_name": "Python 3 (ipykernel)",
   "language": "python",
   "name": "python3"
  },
  "language_info": {
   "codemirror_mode": {
    "name": "ipython",
    "version": 3
   },
   "file_extension": ".py",
   "mimetype": "text/x-python",
   "name": "python",
   "nbconvert_exporter": "python",
   "pygments_lexer": "ipython3",
   "version": "3.11.5"
  }
 },
 "nbformat": 4,
 "nbformat_minor": 5
}
